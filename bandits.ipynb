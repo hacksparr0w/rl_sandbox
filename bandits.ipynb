{
 "cells": [
  {
   "cell_type": "code",
   "execution_count": 16,
   "id": "70147efe-663b-4c56-89e9-07c56787e399",
   "metadata": {},
   "outputs": [],
   "source": [
    "import matplotlib.pyplot as plt\n",
    "import numpy as np\n",
    "import scipy.optimize as opt"
   ]
  },
  {
   "cell_type": "code",
   "execution_count": 621,
   "id": "315831f0-6568-4a90-9968-1b9be607e40a",
   "metadata": {},
   "outputs": [],
   "source": [
    "def stationary_normal_bandit(k, sigma=.5, q=None):\n",
    "    q = q.copy() if q is not None else \\\n",
    "        np.random.uniform(low=0.0, high=1.0, size=(k,))\n",
    "\n",
    "    def env(a):\n",
    "        return q, q[a], np.random.normal(loc=q[a], scale=sigma)\n",
    "\n",
    "    return env"
   ]
  },
  {
   "cell_type": "code",
   "execution_count": 645,
   "id": "d50fbb01-e741-4d54-a4db-dbdc4e66f324",
   "metadata": {},
   "outputs": [],
   "source": [
    "def epsilon_greedy_agent(k, epsilon):\n",
    "    Q = np.zeros((k,))\n",
    "    N = np.zeros((k,))\n",
    "    t = 0\n",
    "\n",
    "    def step():\n",
    "        nonlocal t\n",
    "\n",
    "        if np.random.random() < epsilon:\n",
    "            A = np.random.choice(np.arange(k))\n",
    "        else:\n",
    "            A = np.argmax(Q)\n",
    "\n",
    "        R = yield A\n",
    "\n",
    "        N[A] += 1\n",
    "        Q[A] += (1 / N[A]) * (R - Q[A])\n",
    "        t += 1\n",
    "\n",
    "    return step"
   ]
  },
  {
   "cell_type": "code",
   "execution_count": 21,
   "id": "a3585797-2b23-4c32-b2bf-7e460fb2ed48",
   "metadata": {},
   "outputs": [],
   "source": [
    "# def constant_step_agent(epsilon, alpha, k):\n",
    "#     Q = np.zeros((k,))\n",
    "#     t = 1\n",
    "\n",
    "#     def step():\n",
    "#         if np.random.random() < (epsilon / (1 + np.log(t))):\n",
    "#             A = np.random.choice(np.arange(k))\n",
    "#         else:\n",
    "#             A = np.argmax(Q)\n",
    "\n",
    "#         R = yield A\n",
    "\n",
    "#         Q[A] += alpha * (R - Q[A])\n",
    "#         t += 1\n",
    "\n",
    "#     return step"
   ]
  },
  {
   "cell_type": "code",
   "execution_count": 22,
   "id": "98050acb-d1d3-4180-ab68-2fa008dd67dd",
   "metadata": {},
   "outputs": [],
   "source": [
    "def ucb1_agent(k):\n",
    "    t = 1\n",
    "    Q = np.ones((k,))\n",
    "    N = np.ones((k,))\n",
    "\n",
    "    def step():\n",
    "        nonlocal t\n",
    "\n",
    "        A = np.argmax(Q + np.sqrt((2 * np.log(t)) / N))\n",
    "\n",
    "        R = yield A\n",
    "\n",
    "        t += 1\n",
    "        N[A] += 1\n",
    "        Q[A] += (1 / N[A]) * (R - Q[A])\n",
    "\n",
    "    return step"
   ]
  },
  {
   "cell_type": "code",
   "execution_count": 23,
   "id": "ce1dc225-f616-4af5-b15e-327cb0af84cd",
   "metadata": {},
   "outputs": [],
   "source": [
    "def softmax_agent(k, tau):\n",
    "    Q = np.ones((k,))\n",
    "    N = np.ones((k,))\n",
    "\n",
    "    def step():\n",
    "        p = np.exp(Q / tau) / np.exp(Q / tau).sum()\n",
    "        \n",
    "        A = np.random.choice(np.arange(k), p=p)\n",
    "\n",
    "        R = yield A\n",
    "\n",
    "        N[A] += 1\n",
    "        Q[A] += (1 / N[A]) * (R - Q[A])\n",
    "\n",
    "    return step"
   ]
  },
  {
   "cell_type": "code",
   "execution_count": 24,
   "id": "04bc179d-bf52-4571-a7b6-0d8030cf2716",
   "metadata": {},
   "outputs": [],
   "source": [
    "def rc_agent(k, alpha, beta):\n",
    "    R_m = 0\n",
    "    pi = np.zeros((k,))\n",
    "    \n",
    "    def step():\n",
    "        nonlocal R_m, pi\n",
    "        \n",
    "        p = np.exp(pi) / np.exp(pi).sum()\n",
    "        \n",
    "        A = np.random.choice(np.arange(k), p=p)\n",
    "\n",
    "        R = yield A\n",
    "        pi[A] += beta * (R - R_m)\n",
    "        R_m *= (1 - alpha)\n",
    "        R_m += alpha * R\n",
    "\n",
    "    return step"
   ]
  },
  {
   "cell_type": "code",
   "execution_count": 617,
   "id": "16bdd908-c8cc-4d96-86c4-b84a879d73fb",
   "metadata": {},
   "outputs": [],
   "source": [
    "def epsilon_extinct_agent(k, epsilon):\n",
    "    N = np.zeros((k,))\n",
    "    Q = np.ones((k,))\n",
    "    t = 0\n",
    "\n",
    "    def step():\n",
    "        nonlocal t\n",
    "\n",
    "        p = 1 / (1 + epsilon * t)\n",
    "\n",
    "        if np.random.random() < p:\n",
    "            A = np.random.choice(np.arange(k))\n",
    "        else:\n",
    "            A = np.argmax(Q)\n",
    "\n",
    "        R = yield A\n",
    "\n",
    "        N[A] += 1\n",
    "        Q[A] += (1 / N[A]) * (R - Q[A])\n",
    "        t += 1\n",
    "\n",
    "    return step"
   ]
  },
  {
   "cell_type": "code",
   "execution_count": 390,
   "id": "098ac36f-19fd-4858-937d-144fe2404c3a",
   "metadata": {},
   "outputs": [],
   "source": [
    "def run(bandit, agent, bandit_parameters, agent_parameters, epochs, samples):\n",
    "    regret = np.zeros((samples, epochs), dtype=np.float32)\n",
    "    optimality = np.zeros((samples, epochs), dtype=np.float32)\n",
    "    total = np.tile(np.arange(1, epochs + 1, dtype=np.int32), (samples, 1))\n",
    "\n",
    "    for sample in range(samples):\n",
    "        env = bandit(*bandit_parameters)\n",
    "        step = agent(*agent_parameters)\n",
    "\n",
    "        for epoch in range(epochs):\n",
    "            generator = step()\n",
    "            A = next(generator)\n",
    "            q, mu, R = env(A)\n",
    "\n",
    "            try:\n",
    "                generator.send(R)\n",
    "            except StopIteration:\n",
    "                pass\n",
    "\n",
    "            regret[sample, epoch] = np.max(q) - mu\n",
    "            optimality[sample, epoch] = float(A == np.argmax(q))\n",
    "    \n",
    "    return (\n",
    "        regret.cumsum(axis=1).mean(axis=0),\n",
    "        (optimality.cumsum(axis=1) / total).mean(axis=0)\n",
    "    )"
   ]
  },
  {
   "cell_type": "code",
   "execution_count": 629,
   "id": "e805e5d2-784f-47f1-8262-bb261226218c",
   "metadata": {},
   "outputs": [],
   "source": [
    "def evaluate(\n",
    "    bandit,\n",
    "    agent,\n",
    "    parameters,\n",
    "    epochs=2000,\n",
    "    samples=1\n",
    "):\n",
    "    return [\n",
    "        run(\n",
    "            bandit,\n",
    "            agent,\n",
    "            bandit_parameters,\n",
    "            agent_parameters,\n",
    "            epochs,\n",
    "            samples\n",
    "        )\n",
    "        for bandit_parameters, agent_parameters in parameters\n",
    "    ]"
   ]
  },
  {
   "cell_type": "code",
   "execution_count": 338,
   "id": "dfca3af7-431f-4054-a845-d1666cb50b08",
   "metadata": {},
   "outputs": [],
   "source": [
    "def plot(results, labels=None):\n",
    "    if labels is None:\n",
    "        labels = [None] * len(results)\n",
    "    \n",
    "    plt.style.use(\"seaborn-v0_8-pastel\")\n",
    "\n",
    "    fig, subplots = plt.subplots(2, 1, sharex=True)\n",
    "    regret_subplot, optimality_subplot = subplots\n",
    "    \n",
    "    for (regret, optimality), label in zip(results, labels):\n",
    "        x = np.arange(regret.shape[0])\n",
    "        regret_subplot.plot(regret, label=label)\n",
    "        optimality_subplot.plot(optimality, label=label)\n",
    "    \n",
    "    regret_subplot.set_ylabel(\"Regret\")\n",
    "    regret_subplot.legend()\n",
    "\n",
    "    optimality_subplot.set_ylabel(\"Optimality\")\n",
    "    optimality_subplot.set_xlabel(\"Step\")\n",
    "    optimality_subplot.legend()"
   ]
  },
  {
   "cell_type": "code",
   "execution_count": 703,
   "id": "c36982e3-0983-4594-8d75-9d43b03194ab",
   "metadata": {},
   "outputs": [],
   "source": [
    "def minimize_extinction_epsilon(bandit, k, sigma):\n",
    "    f = lambda epsilon: run(\n",
    "        bandit,\n",
    "        epsilon_extinct_agent,\n",
    "        [k, sigma],\n",
    "        [k, epsilon],\n",
    "        1000,\n",
    "        100\n",
    "    )[0][-1]\n",
    "\n",
    "    result = opt.minimize(f, [0.05], bounds=[(0.001, 1)], method='Powell')\n",
    "\n",
    "    if not result.success:\n",
    "        raise RuntimeError(result.message)\n",
    "\n",
    "    return result.x[0]"
   ]
  },
  {
   "cell_type": "code",
   "execution_count": 704,
   "id": "23afd394-32a1-4b5d-abb0-e1be7de8aa85",
   "metadata": {},
   "outputs": [],
   "source": [
    "def extinction_epsilon_variance_correlation(bandit, k, sigmas=None):\n",
    "    if sigmas is None:\n",
    "        sigmas = np.linspace(0.01, 1, 20)\n",
    "\n",
    "    epsilons = np.zeros((sigmas.shape[0],))\n",
    "\n",
    "    for index, sigma in enumerate(sigmas):\n",
    "        epsilons[index] = minimize_extinction_epsilon(bandit, k, sigma)\n",
    "\n",
    "    return sigmas, epsilons"
   ]
  },
  {
   "cell_type": "code",
   "execution_count": 705,
   "id": "cbe8c0b5-0a8c-4a85-b7e4-8f7be4c2a782",
   "metadata": {},
   "outputs": [
    {
     "ename": "KeyboardInterrupt",
     "evalue": "",
     "output_type": "error",
     "traceback": [
      "\u001b[0;31m---------------------------------------------------------------------------\u001b[0m",
      "\u001b[0;31mKeyboardInterrupt\u001b[0m                         Traceback (most recent call last)",
      "Cell \u001b[0;32mIn[705], line 1\u001b[0m\n\u001b[0;32m----> 1\u001b[0m sigmas, epsilons \u001b[38;5;241m=\u001b[39m \u001b[43mextinction_epsilon_variance_correlation\u001b[49m\u001b[43m(\u001b[49m\u001b[43mstationary_normal_bandit\u001b[49m\u001b[43m,\u001b[49m\u001b[43m \u001b[49m\u001b[38;5;241;43m10\u001b[39;49m\u001b[43m)\u001b[49m\n",
      "Cell \u001b[0;32mIn[704], line 8\u001b[0m, in \u001b[0;36mextinction_epsilon_variance_correlation\u001b[0;34m(bandit, k, sigmas)\u001b[0m\n\u001b[1;32m      5\u001b[0m epsilons \u001b[38;5;241m=\u001b[39m np\u001b[38;5;241m.\u001b[39mzeros((sigmas\u001b[38;5;241m.\u001b[39mshape[\u001b[38;5;241m0\u001b[39m],))\n\u001b[1;32m      7\u001b[0m \u001b[38;5;28;01mfor\u001b[39;00m index, sigma \u001b[38;5;129;01min\u001b[39;00m \u001b[38;5;28menumerate\u001b[39m(sigmas):\n\u001b[0;32m----> 8\u001b[0m     epsilons[index] \u001b[38;5;241m=\u001b[39m \u001b[43mminimize_extinction_epsilon\u001b[49m\u001b[43m(\u001b[49m\u001b[43mbandit\u001b[49m\u001b[43m,\u001b[49m\u001b[43m \u001b[49m\u001b[43mk\u001b[49m\u001b[43m,\u001b[49m\u001b[43m \u001b[49m\u001b[43msigma\u001b[49m\u001b[43m)\u001b[49m\n\u001b[1;32m     10\u001b[0m \u001b[38;5;28;01mreturn\u001b[39;00m sigmas, epsilons\n",
      "Cell \u001b[0;32mIn[703], line 11\u001b[0m, in \u001b[0;36mminimize_extinction_epsilon\u001b[0;34m(bandit, k, sigma)\u001b[0m\n\u001b[1;32m      1\u001b[0m \u001b[38;5;28;01mdef\u001b[39;00m \u001b[38;5;21mminimize_extinction_epsilon\u001b[39m(bandit, k, sigma):\n\u001b[1;32m      2\u001b[0m     f \u001b[38;5;241m=\u001b[39m \u001b[38;5;28;01mlambda\u001b[39;00m epsilon: run(\n\u001b[1;32m      3\u001b[0m         bandit,\n\u001b[1;32m      4\u001b[0m         epsilon_extinct_agent,\n\u001b[0;32m   (...)\u001b[0m\n\u001b[1;32m      8\u001b[0m         \u001b[38;5;241m100\u001b[39m\n\u001b[1;32m      9\u001b[0m     )[\u001b[38;5;241m0\u001b[39m][\u001b[38;5;241m-\u001b[39m\u001b[38;5;241m1\u001b[39m]\n\u001b[0;32m---> 11\u001b[0m     result \u001b[38;5;241m=\u001b[39m \u001b[43mopt\u001b[49m\u001b[38;5;241;43m.\u001b[39;49m\u001b[43mminimize\u001b[49m\u001b[43m(\u001b[49m\u001b[43mf\u001b[49m\u001b[43m,\u001b[49m\u001b[43m \u001b[49m\u001b[43m[\u001b[49m\u001b[38;5;241;43m0.05\u001b[39;49m\u001b[43m]\u001b[49m\u001b[43m,\u001b[49m\u001b[43m \u001b[49m\u001b[43mbounds\u001b[49m\u001b[38;5;241;43m=\u001b[39;49m\u001b[43m[\u001b[49m\u001b[43m(\u001b[49m\u001b[38;5;241;43m0.001\u001b[39;49m\u001b[43m,\u001b[49m\u001b[43m \u001b[49m\u001b[38;5;241;43m1\u001b[39;49m\u001b[43m)\u001b[49m\u001b[43m]\u001b[49m\u001b[43m,\u001b[49m\u001b[43m \u001b[49m\u001b[43mmethod\u001b[49m\u001b[38;5;241;43m=\u001b[39;49m\u001b[38;5;124;43m'\u001b[39;49m\u001b[38;5;124;43mPowell\u001b[39;49m\u001b[38;5;124;43m'\u001b[39;49m\u001b[43m)\u001b[49m\n\u001b[1;32m     13\u001b[0m     \u001b[38;5;28;01mif\u001b[39;00m \u001b[38;5;129;01mnot\u001b[39;00m result\u001b[38;5;241m.\u001b[39msuccess:\n\u001b[1;32m     14\u001b[0m         \u001b[38;5;28;01mraise\u001b[39;00m \u001b[38;5;167;01mRuntimeError\u001b[39;00m(result\u001b[38;5;241m.\u001b[39mmessage)\n",
      "File \u001b[0;32m/opt/conda/lib/python3.11/site-packages/scipy/optimize/_minimize.py:701\u001b[0m, in \u001b[0;36mminimize\u001b[0;34m(fun, x0, args, method, jac, hess, hessp, bounds, constraints, tol, callback, options)\u001b[0m\n\u001b[1;32m    698\u001b[0m     res \u001b[38;5;241m=\u001b[39m _minimize_neldermead(fun, x0, args, callback, bounds\u001b[38;5;241m=\u001b[39mbounds,\n\u001b[1;32m    699\u001b[0m                                \u001b[38;5;241m*\u001b[39m\u001b[38;5;241m*\u001b[39moptions)\n\u001b[1;32m    700\u001b[0m \u001b[38;5;28;01melif\u001b[39;00m meth \u001b[38;5;241m==\u001b[39m \u001b[38;5;124m'\u001b[39m\u001b[38;5;124mpowell\u001b[39m\u001b[38;5;124m'\u001b[39m:\n\u001b[0;32m--> 701\u001b[0m     res \u001b[38;5;241m=\u001b[39m \u001b[43m_minimize_powell\u001b[49m\u001b[43m(\u001b[49m\u001b[43mfun\u001b[49m\u001b[43m,\u001b[49m\u001b[43m \u001b[49m\u001b[43mx0\u001b[49m\u001b[43m,\u001b[49m\u001b[43m \u001b[49m\u001b[43margs\u001b[49m\u001b[43m,\u001b[49m\u001b[43m \u001b[49m\u001b[43mcallback\u001b[49m\u001b[43m,\u001b[49m\u001b[43m \u001b[49m\u001b[43mbounds\u001b[49m\u001b[43m,\u001b[49m\u001b[43m \u001b[49m\u001b[38;5;241;43m*\u001b[39;49m\u001b[38;5;241;43m*\u001b[39;49m\u001b[43moptions\u001b[49m\u001b[43m)\u001b[49m\n\u001b[1;32m    702\u001b[0m \u001b[38;5;28;01melif\u001b[39;00m meth \u001b[38;5;241m==\u001b[39m \u001b[38;5;124m'\u001b[39m\u001b[38;5;124mcg\u001b[39m\u001b[38;5;124m'\u001b[39m:\n\u001b[1;32m    703\u001b[0m     res \u001b[38;5;241m=\u001b[39m _minimize_cg(fun, x0, args, jac, callback, \u001b[38;5;241m*\u001b[39m\u001b[38;5;241m*\u001b[39moptions)\n",
      "File \u001b[0;32m/opt/conda/lib/python3.11/site-packages/scipy/optimize/_optimize.py:3507\u001b[0m, in \u001b[0;36m_minimize_powell\u001b[0;34m(func, x0, args, callback, bounds, xtol, ftol, maxiter, maxfev, disp, direc, return_all, **unknown_options)\u001b[0m\n\u001b[1;32m   3505\u001b[0m direc1 \u001b[38;5;241m=\u001b[39m direc[i]\n\u001b[1;32m   3506\u001b[0m fx2 \u001b[38;5;241m=\u001b[39m fval\n\u001b[0;32m-> 3507\u001b[0m fval, x, direc1 \u001b[38;5;241m=\u001b[39m \u001b[43m_linesearch_powell\u001b[49m\u001b[43m(\u001b[49m\u001b[43mfunc\u001b[49m\u001b[43m,\u001b[49m\u001b[43m \u001b[49m\u001b[43mx\u001b[49m\u001b[43m,\u001b[49m\u001b[43m \u001b[49m\u001b[43mdirec1\u001b[49m\u001b[43m,\u001b[49m\n\u001b[1;32m   3508\u001b[0m \u001b[43m                                     \u001b[49m\u001b[43mtol\u001b[49m\u001b[38;5;241;43m=\u001b[39;49m\u001b[43mxtol\u001b[49m\u001b[43m \u001b[49m\u001b[38;5;241;43m*\u001b[39;49m\u001b[43m \u001b[49m\u001b[38;5;241;43m100\u001b[39;49m\u001b[43m,\u001b[49m\n\u001b[1;32m   3509\u001b[0m \u001b[43m                                     \u001b[49m\u001b[43mlower_bound\u001b[49m\u001b[38;5;241;43m=\u001b[39;49m\u001b[43mlower_bound\u001b[49m\u001b[43m,\u001b[49m\n\u001b[1;32m   3510\u001b[0m \u001b[43m                                     \u001b[49m\u001b[43mupper_bound\u001b[49m\u001b[38;5;241;43m=\u001b[39;49m\u001b[43mupper_bound\u001b[49m\u001b[43m,\u001b[49m\n\u001b[1;32m   3511\u001b[0m \u001b[43m                                     \u001b[49m\u001b[43mfval\u001b[49m\u001b[38;5;241;43m=\u001b[39;49m\u001b[43mfval\u001b[49m\u001b[43m)\u001b[49m\n\u001b[1;32m   3512\u001b[0m \u001b[38;5;28;01mif\u001b[39;00m (fx2 \u001b[38;5;241m-\u001b[39m fval) \u001b[38;5;241m>\u001b[39m delta:\n\u001b[1;32m   3513\u001b[0m     delta \u001b[38;5;241m=\u001b[39m fx2 \u001b[38;5;241m-\u001b[39m fval\n",
      "File \u001b[0;32m/opt/conda/lib/python3.11/site-packages/scipy/optimize/_optimize.py:3195\u001b[0m, in \u001b[0;36m_linesearch_powell\u001b[0;34m(func, p, xi, tol, lower_bound, upper_bound, fval)\u001b[0m\n\u001b[1;32m   3192\u001b[0m     \u001b[38;5;28;01mreturn\u001b[39;00m _linesearch_powell(func, p, xi, fval\u001b[38;5;241m=\u001b[39mfval, tol\u001b[38;5;241m=\u001b[39mtol)\n\u001b[1;32m   3193\u001b[0m \u001b[38;5;28;01melif\u001b[39;00m \u001b[38;5;129;01mnot\u001b[39;00m np\u001b[38;5;241m.\u001b[39misneginf(bound[\u001b[38;5;241m0\u001b[39m]) \u001b[38;5;129;01mand\u001b[39;00m \u001b[38;5;129;01mnot\u001b[39;00m np\u001b[38;5;241m.\u001b[39misposinf(bound[\u001b[38;5;241m1\u001b[39m]):\n\u001b[1;32m   3194\u001b[0m     \u001b[38;5;66;03m# we can use a bounded scalar minimization\u001b[39;00m\n\u001b[0;32m-> 3195\u001b[0m     res \u001b[38;5;241m=\u001b[39m \u001b[43m_minimize_scalar_bounded\u001b[49m\u001b[43m(\u001b[49m\u001b[43mmyfunc\u001b[49m\u001b[43m,\u001b[49m\u001b[43m \u001b[49m\u001b[43mbound\u001b[49m\u001b[43m,\u001b[49m\u001b[43m \u001b[49m\u001b[43mxatol\u001b[49m\u001b[38;5;241;43m=\u001b[39;49m\u001b[43mtol\u001b[49m\u001b[43m \u001b[49m\u001b[38;5;241;43m/\u001b[39;49m\u001b[43m \u001b[49m\u001b[38;5;241;43m100\u001b[39;49m\u001b[43m)\u001b[49m\n\u001b[1;32m   3196\u001b[0m     xi \u001b[38;5;241m=\u001b[39m res\u001b[38;5;241m.\u001b[39mx \u001b[38;5;241m*\u001b[39m xi\n\u001b[1;32m   3197\u001b[0m     \u001b[38;5;28;01mreturn\u001b[39;00m squeeze(res\u001b[38;5;241m.\u001b[39mfun), p \u001b[38;5;241m+\u001b[39m xi, xi\n",
      "File \u001b[0;32m/opt/conda/lib/python3.11/site-packages/scipy/optimize/_optimize.py:2338\u001b[0m, in \u001b[0;36m_minimize_scalar_bounded\u001b[0;34m(func, bounds, args, xatol, maxiter, disp, **unknown_options)\u001b[0m\n\u001b[1;32m   2336\u001b[0m si \u001b[38;5;241m=\u001b[39m np\u001b[38;5;241m.\u001b[39msign(rat) \u001b[38;5;241m+\u001b[39m (rat \u001b[38;5;241m==\u001b[39m \u001b[38;5;241m0\u001b[39m)\n\u001b[1;32m   2337\u001b[0m x \u001b[38;5;241m=\u001b[39m xf \u001b[38;5;241m+\u001b[39m si \u001b[38;5;241m*\u001b[39m np\u001b[38;5;241m.\u001b[39mmaximum(np\u001b[38;5;241m.\u001b[39mabs(rat), tol1)\n\u001b[0;32m-> 2338\u001b[0m fu \u001b[38;5;241m=\u001b[39m \u001b[43mfunc\u001b[49m\u001b[43m(\u001b[49m\u001b[43mx\u001b[49m\u001b[43m,\u001b[49m\u001b[43m \u001b[49m\u001b[38;5;241;43m*\u001b[39;49m\u001b[43margs\u001b[49m\u001b[43m)\u001b[49m\n\u001b[1;32m   2339\u001b[0m num \u001b[38;5;241m+\u001b[39m\u001b[38;5;241m=\u001b[39m \u001b[38;5;241m1\u001b[39m\n\u001b[1;32m   2340\u001b[0m fmin_data \u001b[38;5;241m=\u001b[39m (num, x, fu)\n",
      "File \u001b[0;32m/opt/conda/lib/python3.11/site-packages/scipy/optimize/_optimize.py:3176\u001b[0m, in \u001b[0;36m_linesearch_powell.<locals>.myfunc\u001b[0;34m(alpha)\u001b[0m\n\u001b[1;32m   3175\u001b[0m \u001b[38;5;28;01mdef\u001b[39;00m \u001b[38;5;21mmyfunc\u001b[39m(alpha):\n\u001b[0;32m-> 3176\u001b[0m     \u001b[38;5;28;01mreturn\u001b[39;00m \u001b[43mfunc\u001b[49m\u001b[43m(\u001b[49m\u001b[43mp\u001b[49m\u001b[43m \u001b[49m\u001b[38;5;241;43m+\u001b[39;49m\u001b[43m \u001b[49m\u001b[43malpha\u001b[49m\u001b[38;5;241;43m*\u001b[39;49m\u001b[43mxi\u001b[49m\u001b[43m)\u001b[49m\n",
      "File \u001b[0;32m/opt/conda/lib/python3.11/site-packages/scipy/optimize/_optimize.py:620\u001b[0m, in \u001b[0;36m_wrap_scalar_function_maxfun_validation.<locals>.function_wrapper\u001b[0;34m(x, *wrapper_args)\u001b[0m\n\u001b[1;32m    618\u001b[0m ncalls[\u001b[38;5;241m0\u001b[39m] \u001b[38;5;241m+\u001b[39m\u001b[38;5;241m=\u001b[39m \u001b[38;5;241m1\u001b[39m\n\u001b[1;32m    619\u001b[0m \u001b[38;5;66;03m# A copy of x is sent to the user function (gh13740)\u001b[39;00m\n\u001b[0;32m--> 620\u001b[0m fx \u001b[38;5;241m=\u001b[39m \u001b[43mfunction\u001b[49m\u001b[43m(\u001b[49m\u001b[43mnp\u001b[49m\u001b[38;5;241;43m.\u001b[39;49m\u001b[43mcopy\u001b[49m\u001b[43m(\u001b[49m\u001b[43mx\u001b[49m\u001b[43m)\u001b[49m\u001b[43m,\u001b[49m\u001b[43m \u001b[49m\u001b[38;5;241;43m*\u001b[39;49m\u001b[43m(\u001b[49m\u001b[43mwrapper_args\u001b[49m\u001b[43m \u001b[49m\u001b[38;5;241;43m+\u001b[39;49m\u001b[43m \u001b[49m\u001b[43margs\u001b[49m\u001b[43m)\u001b[49m\u001b[43m)\u001b[49m\n\u001b[1;32m    621\u001b[0m \u001b[38;5;66;03m# Ideally, we'd like to a have a true scalar returned from f(x). For\u001b[39;00m\n\u001b[1;32m    622\u001b[0m \u001b[38;5;66;03m# backwards-compatibility, also allow np.array([1.3]),\u001b[39;00m\n\u001b[1;32m    623\u001b[0m \u001b[38;5;66;03m# np.array([[1.3]]) etc.\u001b[39;00m\n\u001b[1;32m    624\u001b[0m \u001b[38;5;28;01mif\u001b[39;00m \u001b[38;5;129;01mnot\u001b[39;00m np\u001b[38;5;241m.\u001b[39misscalar(fx):\n",
      "Cell \u001b[0;32mIn[703], line 2\u001b[0m, in \u001b[0;36mminimize_extinction_epsilon.<locals>.<lambda>\u001b[0;34m(epsilon)\u001b[0m\n\u001b[1;32m      1\u001b[0m \u001b[38;5;28;01mdef\u001b[39;00m \u001b[38;5;21mminimize_extinction_epsilon\u001b[39m(bandit, k, sigma):\n\u001b[0;32m----> 2\u001b[0m     f \u001b[38;5;241m=\u001b[39m \u001b[38;5;28;01mlambda\u001b[39;00m epsilon: \u001b[43mrun\u001b[49m\u001b[43m(\u001b[49m\n\u001b[1;32m      3\u001b[0m \u001b[43m        \u001b[49m\u001b[43mbandit\u001b[49m\u001b[43m,\u001b[49m\n\u001b[1;32m      4\u001b[0m \u001b[43m        \u001b[49m\u001b[43mepsilon_extinct_agent\u001b[49m\u001b[43m,\u001b[49m\n\u001b[1;32m      5\u001b[0m \u001b[43m        \u001b[49m\u001b[43m[\u001b[49m\u001b[43mk\u001b[49m\u001b[43m,\u001b[49m\u001b[43m \u001b[49m\u001b[43msigma\u001b[49m\u001b[43m]\u001b[49m\u001b[43m,\u001b[49m\n\u001b[1;32m      6\u001b[0m \u001b[43m        \u001b[49m\u001b[43m[\u001b[49m\u001b[43mk\u001b[49m\u001b[43m,\u001b[49m\u001b[43m \u001b[49m\u001b[43mepsilon\u001b[49m\u001b[43m]\u001b[49m\u001b[43m,\u001b[49m\n\u001b[1;32m      7\u001b[0m \u001b[43m        \u001b[49m\u001b[38;5;241;43m1000\u001b[39;49m\u001b[43m,\u001b[49m\n\u001b[1;32m      8\u001b[0m \u001b[43m        \u001b[49m\u001b[38;5;241;43m100\u001b[39;49m\n\u001b[1;32m      9\u001b[0m \u001b[43m    \u001b[49m\u001b[43m)\u001b[49m[\u001b[38;5;241m0\u001b[39m][\u001b[38;5;241m-\u001b[39m\u001b[38;5;241m1\u001b[39m]\n\u001b[1;32m     11\u001b[0m     result \u001b[38;5;241m=\u001b[39m opt\u001b[38;5;241m.\u001b[39mminimize(f, [\u001b[38;5;241m0.05\u001b[39m], bounds\u001b[38;5;241m=\u001b[39m[(\u001b[38;5;241m0.001\u001b[39m, \u001b[38;5;241m1\u001b[39m)], method\u001b[38;5;241m=\u001b[39m\u001b[38;5;124m'\u001b[39m\u001b[38;5;124mPowell\u001b[39m\u001b[38;5;124m'\u001b[39m)\n\u001b[1;32m     13\u001b[0m     \u001b[38;5;28;01mif\u001b[39;00m \u001b[38;5;129;01mnot\u001b[39;00m result\u001b[38;5;241m.\u001b[39msuccess:\n",
      "Cell \u001b[0;32mIn[390], line 13\u001b[0m, in \u001b[0;36mrun\u001b[0;34m(bandit, agent, bandit_parameters, agent_parameters, epochs, samples)\u001b[0m\n\u001b[1;32m     11\u001b[0m generator \u001b[38;5;241m=\u001b[39m step()\n\u001b[1;32m     12\u001b[0m A \u001b[38;5;241m=\u001b[39m \u001b[38;5;28mnext\u001b[39m(generator)\n\u001b[0;32m---> 13\u001b[0m q, mu, R \u001b[38;5;241m=\u001b[39m \u001b[43menv\u001b[49m\u001b[43m(\u001b[49m\u001b[43mA\u001b[49m\u001b[43m)\u001b[49m\n\u001b[1;32m     15\u001b[0m \u001b[38;5;28;01mtry\u001b[39;00m:\n\u001b[1;32m     16\u001b[0m     generator\u001b[38;5;241m.\u001b[39msend(R)\n",
      "Cell \u001b[0;32mIn[621], line 6\u001b[0m, in \u001b[0;36mstationary_normal_bandit.<locals>.env\u001b[0;34m(a)\u001b[0m\n\u001b[1;32m      5\u001b[0m \u001b[38;5;28;01mdef\u001b[39;00m \u001b[38;5;21menv\u001b[39m(a):\n\u001b[0;32m----> 6\u001b[0m     \u001b[38;5;28;01mreturn\u001b[39;00m q, q[a], \u001b[43mnp\u001b[49m\u001b[38;5;241;43m.\u001b[39;49m\u001b[43mrandom\u001b[49m\u001b[38;5;241;43m.\u001b[39;49m\u001b[43mnormal\u001b[49m\u001b[43m(\u001b[49m\u001b[43mloc\u001b[49m\u001b[38;5;241;43m=\u001b[39;49m\u001b[43mq\u001b[49m\u001b[43m[\u001b[49m\u001b[43ma\u001b[49m\u001b[43m]\u001b[49m\u001b[43m,\u001b[49m\u001b[43m \u001b[49m\u001b[43mscale\u001b[49m\u001b[38;5;241;43m=\u001b[39;49m\u001b[43msigma\u001b[49m\u001b[43m)\u001b[49m\n",
      "\u001b[0;31mKeyboardInterrupt\u001b[0m: "
     ]
    }
   ],
   "source": [
    "sigmas, epsilons = extinction_epsilon_variance_correlation(stationary_normal_bandit, 10)"
   ]
  },
  {
   "cell_type": "code",
   "execution_count": null,
   "id": "019834f2-649c-4872-aca8-d2a9563d646e",
   "metadata": {},
   "outputs": [],
   "source": [
    "plt.plot(sigmas, epsilons)"
   ]
  },
  {
   "cell_type": "code",
   "execution_count": null,
   "id": "b1f5348b-97eb-45d0-b317-49b4bc5a87d4",
   "metadata": {},
   "outputs": [],
   "source": [
    "epochs = 100\n",
    "samples = 100\n",
    "r1, _ = run(stationary_normal_bandit, epsilon_greedy_agent, (10,), (10, 0.01), epochs, samples)\n",
    "r2, _ = run(stationary_normal_bandit, epsilon_extinct_agent, (10,), (10, 0.5), epochs, samples)\n",
    "plt.plot(r1)\n",
    "plt.plot(r2)"
   ]
  },
  {
   "cell_type": "code",
   "execution_count": null,
   "id": "f1ccad61-853e-495c-811b-f373be581097",
   "metadata": {},
   "outputs": [],
   "source": []
  }
 ],
 "metadata": {
  "kernelspec": {
   "display_name": "Python 3 (ipykernel)",
   "language": "python",
   "name": "python3"
  },
  "language_info": {
   "codemirror_mode": {
    "name": "ipython",
    "version": 3
   },
   "file_extension": ".py",
   "mimetype": "text/x-python",
   "name": "python",
   "nbconvert_exporter": "python",
   "pygments_lexer": "ipython3",
   "version": "3.11.6"
  }
 },
 "nbformat": 4,
 "nbformat_minor": 5
}
